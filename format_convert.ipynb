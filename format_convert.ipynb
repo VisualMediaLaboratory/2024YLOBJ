{
 "cells": [
  {
   "cell_type": "code",
   "execution_count": null,
   "metadata": {},
   "outputs": [],
   "source": [
    "import json\n",
    "import os\n",
    "import shutil\n",
    "\n",
    "def bbox_to_yolo(image_width, image_height, bbox):\n",
    "    x1, y1 = bbox[0]\n",
    "    x2, y2 = bbox[1]\n",
    "    x_center = (x1 + x2) / 2\n",
    "    y_center = (y1 + y2) / 2\n",
    "    w = x2 - x1\n",
    "    h = y2 - y1\n",
    "    return (\n",
    "        x_center / image_width,\n",
    "        y_center / image_height,\n",
    "        w / image_width,\n",
    "        h / image_height,\n",
    "    )\n",
    "\n",
    "def convert_annotations(input_labels_dir, input_images_dir, output_dir):\n",
    "    output_labels_dir = os.path.join(output_dir, \"labels\")\n",
    "    output_images_dir = os.path.join(output_dir, \"images\")\n",
    "    os.makedirs(output_labels_dir, exist_ok=True)\n",
    "    os.makedirs(output_images_dir, exist_ok=True)\n",
    "\n",
    "    for label_file_name in os.listdir(input_labels_dir):\n",
    "        file_id = label_file_name.removesuffix(\".json\")\n",
    "        input_label_path = os.path.join(input_labels_dir, file_id + \".json\")\n",
    "        input_image_path = os.path.join(input_images_dir, file_id + \".jpg\")\n",
    "        output_label_path = os.path.join(output_labels_dir, file_id + \".txt\")\n",
    "        output_image_path = os.path.join(output_images_dir, file_id + \".jpg\")\n",
    "        \n",
    "\n",
    "        # convert\n",
    "        label = json.load(open(input_label_path, \"r\"))\n",
    "        width = label[\"images\"][\"width\"]\n",
    "        height = label[\"images\"][\"height\"]\n",
    "        yolos = [\n",
    "            bbox_to_yolo(width, height, annotation[\"bbox\"])\n",
    "            for annotation in label[\"annotations\"]\n",
    "            if annotation[\"object_class\"] == \"garbage_bag\"\n",
    "        ]\n",
    "\n",
    "        # exception case\n",
    "        if not yolos:\n",
    "            print(f'Object does not exist in \"{label_file_name}\"')\n",
    "            continue\n",
    "\n",
    "        # image\n",
    "        shutil.copy(src=input_image_path, dst=output_image_path)\n",
    "\n",
    "        # label\n",
    "        with open(output_label_path, \"w\") as f:\n",
    "            for yolo in yolos:\n",
    "                f.write(f\"0 {yolo[0]} {yolo[1]} {yolo[2]} {yolo[3]}\\n\")"
   ]
  },
  {
   "cell_type": "code",
   "execution_count": 2,
   "metadata": {},
   "outputs": [],
   "source": [
    "# YOLOv5 locates labels automatically for each image by replacing the last instance of /images/ in each image path with /labels/\n",
    "\n",
    "output_dir = \"datasets/yolo_dataset\"\n",
    "\n",
    "training_labels_dir = 'datasets/raw_dataset/train/labels'\n",
    "training_images_dir = 'datasets/raw_dataset/train/images'\n",
    "\n",
    "validation_labels_dir = 'datasets/raw_dataset/val/labels'\n",
    "validation_images_dir = 'datasets/raw_dataset/val/images'"
   ]
  },
  {
   "cell_type": "code",
   "execution_count": 3,
   "metadata": {},
   "outputs": [
    {
     "name": "stdout",
     "output_type": "stream",
     "text": [
      "Object does not exist in \"9_erip_su_11-10_12-56-56_aft_DF5.json\"\n",
      "Object does not exist in \"9_erip_su_11-10_12-57-04_aft_DF5.json\"\n",
      "Object does not exist in \"9_ydsp_su_11-11_10-43-42_for_DF5.json\"\n",
      "Object does not exist in \"9_ydsp_su_11-11_10-43-58_for_DF5.json\"\n",
      "Object does not exist in \"9_ydsp_su_11-11_10-43-52_for_DF5.json\"\n",
      "Object does not exist in \"9_ydsp_su_11-11_10-42-56_for_DF5.json\"\n",
      "Object does not exist in \"9_erip_su_11-10_12-57-00_aft_DF5.json\"\n",
      "Object does not exist in \"9_ydsp_su_11-11_10-44-18_for_DF5.json\"\n"
     ]
    }
   ],
   "source": [
    "convert_annotations(\n",
    "    input_labels_dir=training_labels_dir,\n",
    "    input_images_dir=training_images_dir,\n",
    "    output_dir=os.path.join(output_dir, \"train\"),\n",
    ")"
   ]
  },
  {
   "cell_type": "code",
   "execution_count": 4,
   "metadata": {},
   "outputs": [
    {
     "name": "stdout",
     "output_type": "stream",
     "text": [
      "Object does not exist in \"9_ydsp_su_11-11_10-43-04_for_DF5.json\"\n",
      "Object does not exist in \"9_erip_su_11-10_12-09-00_aft_DF5.json\"\n",
      "Object does not exist in \"9_ydsp_su_11-11_10-44-04_for_DF5.json\"\n"
     ]
    }
   ],
   "source": [
    "convert_annotations(\n",
    "    input_labels_dir=validation_labels_dir,\n",
    "    input_images_dir=validation_images_dir,\n",
    "    output_dir=os.path.join(output_dir, \"val\"),\n",
    ")"
   ]
  }
 ],
 "metadata": {
  "kernelspec": {
   "display_name": "base",
   "language": "python",
   "name": "python3"
  },
  "language_info": {
   "codemirror_mode": {
    "name": "ipython",
    "version": 3
   },
   "file_extension": ".py",
   "mimetype": "text/x-python",
   "name": "python",
   "nbconvert_exporter": "python",
   "pygments_lexer": "ipython3",
   "version": "3.10.15"
  }
 },
 "nbformat": 4,
 "nbformat_minor": 2
}
